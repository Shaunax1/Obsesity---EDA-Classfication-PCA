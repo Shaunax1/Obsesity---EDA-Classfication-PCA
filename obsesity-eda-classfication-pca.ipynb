{
 "cells": [
  {
   "cell_type": "code",
   "execution_count": 1,
   "id": "bb058c42",
   "metadata": {
    "_cell_guid": "b1076dfc-b9ad-4769-8c92-a6c4dae69d19",
    "_uuid": "8f2839f25d086af736a60e9eeb907d3b93b6e0e5",
    "execution": {
     "iopub.execute_input": "2025-01-29T17:46:22.469294Z",
     "iopub.status.busy": "2025-01-29T17:46:22.468931Z",
     "iopub.status.idle": "2025-01-29T17:46:25.496032Z",
     "shell.execute_reply": "2025-01-29T17:46:25.494374Z"
    },
    "papermill": {
     "duration": 3.037969,
     "end_time": "2025-01-29T17:46:25.497983",
     "exception": false,
     "start_time": "2025-01-29T17:46:22.460014",
     "status": "completed"
    },
    "tags": []
   },
   "outputs": [
    {
     "name": "stdout",
     "output_type": "stream",
     "text": [
      "/kaggle/input/obesity-prediction/Obesity prediction.csv\n"
     ]
    }
   ],
   "source": [
    "# This Python 3 environment comes with many helpful analytics libraries installed\n",
    "# It is defined by the kaggle/python Docker image: https://github.com/kaggle/docker-python\n",
    "# For example, here's several helpful packages to load\n",
    "\n",
    "import numpy as np # linear algebra\n",
    "import pandas as pd # data processing, CSV file I/O (e.g. pd.read_csv)\n",
    "import matplotlib.pyplot as plt\n",
    "import seaborn as sns\n",
    "import warnings\n",
    "warnings.filterwarnings(\"ignore\")\n",
    "\n",
    "# Input data files are available in the read-only \"../input/\" directory\n",
    "# For example, running this (by clicking run or pressing Shift+Enter) will list all files under the input directory\n",
    "\n",
    "import os\n",
    "for dirname, _, filenames in os.walk('/kaggle/input'):\n",
    "    for filename in filenames:\n",
    "        print(os.path.join(dirname, filename))\n",
    "\n",
    "# You can write up to 20GB to the current directory (/kaggle/working/) that gets preserved as output when you create a version using \"Save & Run All\" \n",
    "# You can also write temporary files to /kaggle/temp/, but they won't be saved outside of the current session"
   ]
  },
  {
   "cell_type": "code",
   "execution_count": 2,
   "id": "e125ba5d",
   "metadata": {
    "execution": {
     "iopub.execute_input": "2025-01-29T17:46:25.511960Z",
     "iopub.status.busy": "2025-01-29T17:46:25.511452Z",
     "iopub.status.idle": "2025-01-29T17:46:25.541099Z",
     "shell.execute_reply": "2025-01-29T17:46:25.540052Z"
    },
    "papermill": {
     "duration": 0.038508,
     "end_time": "2025-01-29T17:46:25.543026",
     "exception": false,
     "start_time": "2025-01-29T17:46:25.504518",
     "status": "completed"
    },
    "tags": []
   },
   "outputs": [],
   "source": [
    "df = pd.read_csv(\"/kaggle/input/obesity-prediction/Obesity prediction.csv\")"
   ]
  },
  {
   "cell_type": "code",
   "execution_count": 3,
   "id": "55a59384",
   "metadata": {
    "execution": {
     "iopub.execute_input": "2025-01-29T17:46:25.557754Z",
     "iopub.status.busy": "2025-01-29T17:46:25.557329Z",
     "iopub.status.idle": "2025-01-29T17:46:25.595120Z",
     "shell.execute_reply": "2025-01-29T17:46:25.593637Z"
    },
    "papermill": {
     "duration": 0.04721,
     "end_time": "2025-01-29T17:46:25.596996",
     "exception": false,
     "start_time": "2025-01-29T17:46:25.549786",
     "status": "completed"
    },
    "tags": []
   },
   "outputs": [
    {
     "name": "stdout",
     "output_type": "stream",
     "text": [
      "<class 'pandas.core.frame.DataFrame'>\n",
      "RangeIndex: 2111 entries, 0 to 2110\n",
      "Data columns (total 17 columns):\n",
      " #   Column          Non-Null Count  Dtype  \n",
      "---  ------          --------------  -----  \n",
      " 0   Gender          2111 non-null   object \n",
      " 1   Age             2111 non-null   float64\n",
      " 2   Height          2111 non-null   float64\n",
      " 3   Weight          2111 non-null   float64\n",
      " 4   family_history  2111 non-null   object \n",
      " 5   FAVC            2111 non-null   object \n",
      " 6   FCVC            2111 non-null   float64\n",
      " 7   NCP             2111 non-null   float64\n",
      " 8   CAEC            2111 non-null   object \n",
      " 9   SMOKE           2111 non-null   object \n",
      " 10  CH2O            2111 non-null   float64\n",
      " 11  SCC             2111 non-null   object \n",
      " 12  FAF             2111 non-null   float64\n",
      " 13  TUE             2111 non-null   float64\n",
      " 14  CALC            2111 non-null   object \n",
      " 15  MTRANS          2111 non-null   object \n",
      " 16  Obesity         2111 non-null   object \n",
      "dtypes: float64(8), object(9)\n",
      "memory usage: 280.5+ KB\n"
     ]
    }
   ],
   "source": [
    "df.info()"
   ]
  },
  {
   "cell_type": "code",
   "execution_count": 4,
   "id": "22d41df1",
   "metadata": {
    "execution": {
     "iopub.execute_input": "2025-01-29T17:46:25.611033Z",
     "iopub.status.busy": "2025-01-29T17:46:25.610626Z",
     "iopub.status.idle": "2025-01-29T17:46:25.617731Z",
     "shell.execute_reply": "2025-01-29T17:46:25.616564Z"
    },
    "papermill": {
     "duration": 0.016073,
     "end_time": "2025-01-29T17:46:25.619728",
     "exception": false,
     "start_time": "2025-01-29T17:46:25.603655",
     "status": "completed"
    },
    "tags": []
   },
   "outputs": [
    {
     "data": {
      "text/plain": [
       "Index(['Gender', 'Age', 'Height', 'Weight', 'family_history', 'FAVC', 'FCVC',\n",
       "       'NCP', 'CAEC', 'SMOKE', 'CH2O', 'SCC', 'FAF', 'TUE', 'CALC', 'MTRANS',\n",
       "       'Obesity'],\n",
       "      dtype='object')"
      ]
     },
     "execution_count": 4,
     "metadata": {},
     "output_type": "execute_result"
    }
   ],
   "source": [
    "df.columns"
   ]
  },
  {
   "cell_type": "code",
   "execution_count": 5,
   "id": "cae426ec",
   "metadata": {
    "execution": {
     "iopub.execute_input": "2025-01-29T17:46:25.634113Z",
     "iopub.status.busy": "2025-01-29T17:46:25.633733Z",
     "iopub.status.idle": "2025-01-29T17:46:25.660279Z",
     "shell.execute_reply": "2025-01-29T17:46:25.659222Z"
    },
    "papermill": {
     "duration": 0.035751,
     "end_time": "2025-01-29T17:46:25.662092",
     "exception": false,
     "start_time": "2025-01-29T17:46:25.626341",
     "status": "completed"
    },
    "tags": []
   },
   "outputs": [
    {
     "data": {
      "text/html": [
       "<div>\n",
       "<style scoped>\n",
       "    .dataframe tbody tr th:only-of-type {\n",
       "        vertical-align: middle;\n",
       "    }\n",
       "\n",
       "    .dataframe tbody tr th {\n",
       "        vertical-align: top;\n",
       "    }\n",
       "\n",
       "    .dataframe thead th {\n",
       "        text-align: right;\n",
       "    }\n",
       "</style>\n",
       "<table border=\"1\" class=\"dataframe\">\n",
       "  <thead>\n",
       "    <tr style=\"text-align: right;\">\n",
       "      <th></th>\n",
       "      <th>Gender</th>\n",
       "      <th>Age</th>\n",
       "      <th>Height</th>\n",
       "      <th>Weight</th>\n",
       "      <th>family_history</th>\n",
       "      <th>FAVC</th>\n",
       "      <th>FCVC</th>\n",
       "      <th>NCP</th>\n",
       "      <th>CAEC</th>\n",
       "      <th>SMOKE</th>\n",
       "      <th>CH2O</th>\n",
       "      <th>SCC</th>\n",
       "      <th>FAF</th>\n",
       "      <th>TUE</th>\n",
       "      <th>CALC</th>\n",
       "      <th>MTRANS</th>\n",
       "      <th>Obesity</th>\n",
       "    </tr>\n",
       "  </thead>\n",
       "  <tbody>\n",
       "    <tr>\n",
       "      <th>0</th>\n",
       "      <td>Female</td>\n",
       "      <td>21.0</td>\n",
       "      <td>1.62</td>\n",
       "      <td>64.0</td>\n",
       "      <td>yes</td>\n",
       "      <td>no</td>\n",
       "      <td>2.0</td>\n",
       "      <td>3.0</td>\n",
       "      <td>Sometimes</td>\n",
       "      <td>no</td>\n",
       "      <td>2.0</td>\n",
       "      <td>no</td>\n",
       "      <td>0.0</td>\n",
       "      <td>1.0</td>\n",
       "      <td>no</td>\n",
       "      <td>Public_Transportation</td>\n",
       "      <td>Normal_Weight</td>\n",
       "    </tr>\n",
       "    <tr>\n",
       "      <th>1</th>\n",
       "      <td>Female</td>\n",
       "      <td>21.0</td>\n",
       "      <td>1.52</td>\n",
       "      <td>56.0</td>\n",
       "      <td>yes</td>\n",
       "      <td>no</td>\n",
       "      <td>3.0</td>\n",
       "      <td>3.0</td>\n",
       "      <td>Sometimes</td>\n",
       "      <td>yes</td>\n",
       "      <td>3.0</td>\n",
       "      <td>yes</td>\n",
       "      <td>3.0</td>\n",
       "      <td>0.0</td>\n",
       "      <td>Sometimes</td>\n",
       "      <td>Public_Transportation</td>\n",
       "      <td>Normal_Weight</td>\n",
       "    </tr>\n",
       "    <tr>\n",
       "      <th>2</th>\n",
       "      <td>Male</td>\n",
       "      <td>23.0</td>\n",
       "      <td>1.80</td>\n",
       "      <td>77.0</td>\n",
       "      <td>yes</td>\n",
       "      <td>no</td>\n",
       "      <td>2.0</td>\n",
       "      <td>3.0</td>\n",
       "      <td>Sometimes</td>\n",
       "      <td>no</td>\n",
       "      <td>2.0</td>\n",
       "      <td>no</td>\n",
       "      <td>2.0</td>\n",
       "      <td>1.0</td>\n",
       "      <td>Frequently</td>\n",
       "      <td>Public_Transportation</td>\n",
       "      <td>Normal_Weight</td>\n",
       "    </tr>\n",
       "    <tr>\n",
       "      <th>3</th>\n",
       "      <td>Male</td>\n",
       "      <td>27.0</td>\n",
       "      <td>1.80</td>\n",
       "      <td>87.0</td>\n",
       "      <td>no</td>\n",
       "      <td>no</td>\n",
       "      <td>3.0</td>\n",
       "      <td>3.0</td>\n",
       "      <td>Sometimes</td>\n",
       "      <td>no</td>\n",
       "      <td>2.0</td>\n",
       "      <td>no</td>\n",
       "      <td>2.0</td>\n",
       "      <td>0.0</td>\n",
       "      <td>Frequently</td>\n",
       "      <td>Walking</td>\n",
       "      <td>Overweight_Level_I</td>\n",
       "    </tr>\n",
       "    <tr>\n",
       "      <th>4</th>\n",
       "      <td>Male</td>\n",
       "      <td>22.0</td>\n",
       "      <td>1.78</td>\n",
       "      <td>89.8</td>\n",
       "      <td>no</td>\n",
       "      <td>no</td>\n",
       "      <td>2.0</td>\n",
       "      <td>1.0</td>\n",
       "      <td>Sometimes</td>\n",
       "      <td>no</td>\n",
       "      <td>2.0</td>\n",
       "      <td>no</td>\n",
       "      <td>0.0</td>\n",
       "      <td>0.0</td>\n",
       "      <td>Sometimes</td>\n",
       "      <td>Public_Transportation</td>\n",
       "      <td>Overweight_Level_II</td>\n",
       "    </tr>\n",
       "  </tbody>\n",
       "</table>\n",
       "</div>"
      ],
      "text/plain": [
       "   Gender   Age  Height  Weight family_history FAVC  FCVC  NCP       CAEC  \\\n",
       "0  Female  21.0    1.62    64.0            yes   no   2.0  3.0  Sometimes   \n",
       "1  Female  21.0    1.52    56.0            yes   no   3.0  3.0  Sometimes   \n",
       "2    Male  23.0    1.80    77.0            yes   no   2.0  3.0  Sometimes   \n",
       "3    Male  27.0    1.80    87.0             no   no   3.0  3.0  Sometimes   \n",
       "4    Male  22.0    1.78    89.8             no   no   2.0  1.0  Sometimes   \n",
       "\n",
       "  SMOKE  CH2O  SCC  FAF  TUE        CALC                 MTRANS  \\\n",
       "0    no   2.0   no  0.0  1.0          no  Public_Transportation   \n",
       "1   yes   3.0  yes  3.0  0.0   Sometimes  Public_Transportation   \n",
       "2    no   2.0   no  2.0  1.0  Frequently  Public_Transportation   \n",
       "3    no   2.0   no  2.0  0.0  Frequently                Walking   \n",
       "4    no   2.0   no  0.0  0.0   Sometimes  Public_Transportation   \n",
       "\n",
       "               Obesity  \n",
       "0        Normal_Weight  \n",
       "1        Normal_Weight  \n",
       "2        Normal_Weight  \n",
       "3   Overweight_Level_I  \n",
       "4  Overweight_Level_II  "
      ]
     },
     "execution_count": 5,
     "metadata": {},
     "output_type": "execute_result"
    }
   ],
   "source": [
    "df.head()"
   ]
  },
  {
   "cell_type": "code",
   "execution_count": 6,
   "id": "33cbdd45",
   "metadata": {
    "execution": {
     "iopub.execute_input": "2025-01-29T17:46:25.677016Z",
     "iopub.status.busy": "2025-01-29T17:46:25.676682Z",
     "iopub.status.idle": "2025-01-29T17:46:25.685581Z",
     "shell.execute_reply": "2025-01-29T17:46:25.684680Z"
    },
    "papermill": {
     "duration": 0.018263,
     "end_time": "2025-01-29T17:46:25.687128",
     "exception": false,
     "start_time": "2025-01-29T17:46:25.668865",
     "status": "completed"
    },
    "tags": []
   },
   "outputs": [
    {
     "data": {
      "text/plain": [
       "Gender            0\n",
       "CALC              0\n",
       "TUE               0\n",
       "FAF               0\n",
       "SCC               0\n",
       "CH2O              0\n",
       "SMOKE             0\n",
       "MTRANS            0\n",
       "CAEC              0\n",
       "FCVC              0\n",
       "FAVC              0\n",
       "family_history    0\n",
       "Weight            0\n",
       "Height            0\n",
       "Age               0\n",
       "NCP               0\n",
       "Obesity           0\n",
       "dtype: int64"
      ]
     },
     "execution_count": 6,
     "metadata": {},
     "output_type": "execute_result"
    }
   ],
   "source": [
    "df.isnull().sum().sort_values(ascending = True)"
   ]
  },
  {
   "cell_type": "code",
   "execution_count": 7,
   "id": "85ff032b",
   "metadata": {
    "execution": {
     "iopub.execute_input": "2025-01-29T17:46:25.702413Z",
     "iopub.status.busy": "2025-01-29T17:46:25.702065Z",
     "iopub.status.idle": "2025-01-29T17:46:25.711454Z",
     "shell.execute_reply": "2025-01-29T17:46:25.710486Z"
    },
    "papermill": {
     "duration": 0.018708,
     "end_time": "2025-01-29T17:46:25.713095",
     "exception": false,
     "start_time": "2025-01-29T17:46:25.694387",
     "status": "completed"
    },
    "tags": []
   },
   "outputs": [
    {
     "data": {
      "text/plain": [
       "24"
      ]
     },
     "execution_count": 7,
     "metadata": {},
     "output_type": "execute_result"
    }
   ],
   "source": [
    "df.duplicated().sum()"
   ]
  },
  {
   "cell_type": "code",
   "execution_count": 8,
   "id": "331d84e0",
   "metadata": {
    "execution": {
     "iopub.execute_input": "2025-01-29T17:46:25.728147Z",
     "iopub.status.busy": "2025-01-29T17:46:25.727819Z",
     "iopub.status.idle": "2025-01-29T17:46:25.738586Z",
     "shell.execute_reply": "2025-01-29T17:46:25.737515Z"
    },
    "papermill": {
     "duration": 0.020408,
     "end_time": "2025-01-29T17:46:25.740528",
     "exception": false,
     "start_time": "2025-01-29T17:46:25.720120",
     "status": "completed"
    },
    "tags": []
   },
   "outputs": [],
   "source": [
    "df = df.drop_duplicates()"
   ]
  },
  {
   "cell_type": "code",
   "execution_count": 9,
   "id": "ebb2efbd",
   "metadata": {
    "execution": {
     "iopub.execute_input": "2025-01-29T17:46:25.756643Z",
     "iopub.status.busy": "2025-01-29T17:46:25.756301Z",
     "iopub.status.idle": "2025-01-29T17:46:25.767870Z",
     "shell.execute_reply": "2025-01-29T17:46:25.766651Z"
    },
    "papermill": {
     "duration": 0.021222,
     "end_time": "2025-01-29T17:46:25.769494",
     "exception": false,
     "start_time": "2025-01-29T17:46:25.748272",
     "status": "completed"
    },
    "tags": []
   },
   "outputs": [
    {
     "name": "stdout",
     "output_type": "stream",
     "text": [
      "<class 'pandas.core.frame.DataFrame'>\n",
      "Index: 2087 entries, 0 to 2110\n",
      "Data columns (total 17 columns):\n",
      " #   Column          Non-Null Count  Dtype  \n",
      "---  ------          --------------  -----  \n",
      " 0   Gender          2087 non-null   object \n",
      " 1   Age             2087 non-null   float64\n",
      " 2   Height          2087 non-null   float64\n",
      " 3   Weight          2087 non-null   float64\n",
      " 4   family_history  2087 non-null   object \n",
      " 5   FAVC            2087 non-null   object \n",
      " 6   FCVC            2087 non-null   float64\n",
      " 7   NCP             2087 non-null   float64\n",
      " 8   CAEC            2087 non-null   object \n",
      " 9   SMOKE           2087 non-null   object \n",
      " 10  CH2O            2087 non-null   float64\n",
      " 11  SCC             2087 non-null   object \n",
      " 12  FAF             2087 non-null   float64\n",
      " 13  TUE             2087 non-null   float64\n",
      " 14  CALC            2087 non-null   object \n",
      " 15  MTRANS          2087 non-null   object \n",
      " 16  Obesity         2087 non-null   object \n",
      "dtypes: float64(8), object(9)\n",
      "memory usage: 293.5+ KB\n"
     ]
    }
   ],
   "source": [
    "df.info()"
   ]
  },
  {
   "cell_type": "code",
   "execution_count": 10,
   "id": "6e6eab5f",
   "metadata": {
    "execution": {
     "iopub.execute_input": "2025-01-29T17:46:25.785069Z",
     "iopub.status.busy": "2025-01-29T17:46:25.784716Z",
     "iopub.status.idle": "2025-01-29T17:46:25.818802Z",
     "shell.execute_reply": "2025-01-29T17:46:25.817486Z"
    },
    "papermill": {
     "duration": 0.043842,
     "end_time": "2025-01-29T17:46:25.820699",
     "exception": false,
     "start_time": "2025-01-29T17:46:25.776857",
     "status": "completed"
    },
    "tags": []
   },
   "outputs": [
    {
     "data": {
      "text/html": [
       "<div>\n",
       "<style scoped>\n",
       "    .dataframe tbody tr th:only-of-type {\n",
       "        vertical-align: middle;\n",
       "    }\n",
       "\n",
       "    .dataframe tbody tr th {\n",
       "        vertical-align: top;\n",
       "    }\n",
       "\n",
       "    .dataframe thead th {\n",
       "        text-align: right;\n",
       "    }\n",
       "</style>\n",
       "<table border=\"1\" class=\"dataframe\">\n",
       "  <thead>\n",
       "    <tr style=\"text-align: right;\">\n",
       "      <th></th>\n",
       "      <th>count</th>\n",
       "      <th>mean</th>\n",
       "      <th>std</th>\n",
       "      <th>min</th>\n",
       "      <th>25%</th>\n",
       "      <th>50%</th>\n",
       "      <th>75%</th>\n",
       "      <th>max</th>\n",
       "    </tr>\n",
       "  </thead>\n",
       "  <tbody>\n",
       "    <tr>\n",
       "      <th>Age</th>\n",
       "      <td>2087.0</td>\n",
       "      <td>24.353090</td>\n",
       "      <td>6.368801</td>\n",
       "      <td>14.00</td>\n",
       "      <td>19.915937</td>\n",
       "      <td>22.847618</td>\n",
       "      <td>26.000000</td>\n",
       "      <td>61.00</td>\n",
       "    </tr>\n",
       "    <tr>\n",
       "      <th>Height</th>\n",
       "      <td>2087.0</td>\n",
       "      <td>1.702674</td>\n",
       "      <td>0.093186</td>\n",
       "      <td>1.45</td>\n",
       "      <td>1.630178</td>\n",
       "      <td>1.701584</td>\n",
       "      <td>1.769491</td>\n",
       "      <td>1.98</td>\n",
       "    </tr>\n",
       "    <tr>\n",
       "      <th>Weight</th>\n",
       "      <td>2087.0</td>\n",
       "      <td>86.858730</td>\n",
       "      <td>26.190847</td>\n",
       "      <td>39.00</td>\n",
       "      <td>66.000000</td>\n",
       "      <td>83.101100</td>\n",
       "      <td>108.015907</td>\n",
       "      <td>173.00</td>\n",
       "    </tr>\n",
       "    <tr>\n",
       "      <th>FCVC</th>\n",
       "      <td>2087.0</td>\n",
       "      <td>2.421466</td>\n",
       "      <td>0.534737</td>\n",
       "      <td>1.00</td>\n",
       "      <td>2.000000</td>\n",
       "      <td>2.396265</td>\n",
       "      <td>3.000000</td>\n",
       "      <td>3.00</td>\n",
       "    </tr>\n",
       "    <tr>\n",
       "      <th>NCP</th>\n",
       "      <td>2087.0</td>\n",
       "      <td>2.701179</td>\n",
       "      <td>0.764614</td>\n",
       "      <td>1.00</td>\n",
       "      <td>2.697467</td>\n",
       "      <td>3.000000</td>\n",
       "      <td>3.000000</td>\n",
       "      <td>4.00</td>\n",
       "    </tr>\n",
       "    <tr>\n",
       "      <th>CH2O</th>\n",
       "      <td>2087.0</td>\n",
       "      <td>2.004749</td>\n",
       "      <td>0.608284</td>\n",
       "      <td>1.00</td>\n",
       "      <td>1.590922</td>\n",
       "      <td>2.000000</td>\n",
       "      <td>2.466193</td>\n",
       "      <td>3.00</td>\n",
       "    </tr>\n",
       "    <tr>\n",
       "      <th>FAF</th>\n",
       "      <td>2087.0</td>\n",
       "      <td>1.012812</td>\n",
       "      <td>0.853475</td>\n",
       "      <td>0.00</td>\n",
       "      <td>0.124505</td>\n",
       "      <td>1.000000</td>\n",
       "      <td>1.678102</td>\n",
       "      <td>3.00</td>\n",
       "    </tr>\n",
       "    <tr>\n",
       "      <th>TUE</th>\n",
       "      <td>2087.0</td>\n",
       "      <td>0.663035</td>\n",
       "      <td>0.608153</td>\n",
       "      <td>0.00</td>\n",
       "      <td>0.000000</td>\n",
       "      <td>0.630866</td>\n",
       "      <td>1.000000</td>\n",
       "      <td>2.00</td>\n",
       "    </tr>\n",
       "  </tbody>\n",
       "</table>\n",
       "</div>"
      ],
      "text/plain": [
       "         count       mean        std    min        25%        50%         75%  \\\n",
       "Age     2087.0  24.353090   6.368801  14.00  19.915937  22.847618   26.000000   \n",
       "Height  2087.0   1.702674   0.093186   1.45   1.630178   1.701584    1.769491   \n",
       "Weight  2087.0  86.858730  26.190847  39.00  66.000000  83.101100  108.015907   \n",
       "FCVC    2087.0   2.421466   0.534737   1.00   2.000000   2.396265    3.000000   \n",
       "NCP     2087.0   2.701179   0.764614   1.00   2.697467   3.000000    3.000000   \n",
       "CH2O    2087.0   2.004749   0.608284   1.00   1.590922   2.000000    2.466193   \n",
       "FAF     2087.0   1.012812   0.853475   0.00   0.124505   1.000000    1.678102   \n",
       "TUE     2087.0   0.663035   0.608153   0.00   0.000000   0.630866    1.000000   \n",
       "\n",
       "           max  \n",
       "Age      61.00  \n",
       "Height    1.98  \n",
       "Weight  173.00  \n",
       "FCVC      3.00  \n",
       "NCP       4.00  \n",
       "CH2O      3.00  \n",
       "FAF       3.00  \n",
       "TUE       2.00  "
      ]
     },
     "execution_count": 10,
     "metadata": {},
     "output_type": "execute_result"
    }
   ],
   "source": [
    "df.describe().T"
   ]
  },
  {
   "cell_type": "code",
   "execution_count": 11,
   "id": "92fd9316",
   "metadata": {
    "execution": {
     "iopub.execute_input": "2025-01-29T17:46:25.837606Z",
     "iopub.status.busy": "2025-01-29T17:46:25.837155Z",
     "iopub.status.idle": "2025-01-29T17:46:25.844921Z",
     "shell.execute_reply": "2025-01-29T17:46:25.843831Z"
    },
    "papermill": {
     "duration": 0.018104,
     "end_time": "2025-01-29T17:46:25.846678",
     "exception": false,
     "start_time": "2025-01-29T17:46:25.828574",
     "status": "completed"
    },
    "tags": []
   },
   "outputs": [
    {
     "data": {
      "text/plain": [
       "Obesity\n",
       "Obesity_Type_I         351\n",
       "Obesity_Type_III       324\n",
       "Obesity_Type_II        297\n",
       "Overweight_Level_II    290\n",
       "Normal_Weight          282\n",
       "Overweight_Level_I     276\n",
       "Insufficient_Weight    267\n",
       "Name: count, dtype: int64"
      ]
     },
     "execution_count": 11,
     "metadata": {},
     "output_type": "execute_result"
    }
   ],
   "source": [
    "df[\"Obesity\"].value_counts()"
   ]
  },
  {
   "cell_type": "code",
   "execution_count": 12,
   "id": "456634f8",
   "metadata": {
    "execution": {
     "iopub.execute_input": "2025-01-29T17:46:25.862972Z",
     "iopub.status.busy": "2025-01-29T17:46:25.862639Z",
     "iopub.status.idle": "2025-01-29T17:46:25.867381Z",
     "shell.execute_reply": "2025-01-29T17:46:25.866490Z"
    },
    "papermill": {
     "duration": 0.015131,
     "end_time": "2025-01-29T17:46:25.869354",
     "exception": false,
     "start_time": "2025-01-29T17:46:25.854223",
     "status": "completed"
    },
    "tags": []
   },
   "outputs": [],
   "source": [
    "obesity_ranks = df[\"Obesity\"].value_counts()"
   ]
  },
  {
   "cell_type": "code",
   "execution_count": 13,
   "id": "c13b279c",
   "metadata": {
    "execution": {
     "iopub.execute_input": "2025-01-29T17:46:25.886327Z",
     "iopub.status.busy": "2025-01-29T17:46:25.885930Z",
     "iopub.status.idle": "2025-01-29T17:46:26.155149Z",
     "shell.execute_reply": "2025-01-29T17:46:26.153825Z"
    },
    "papermill": {
     "duration": 0.279476,
     "end_time": "2025-01-29T17:46:26.157168",
     "exception": false,
     "start_time": "2025-01-29T17:46:25.877692",
     "status": "completed"
    },
    "tags": []
   },
   "outputs": [
    {
     "data": {
      "image/png": "[encoded data removed]",
      "text/plain": [
       "<Figure size 1000x200 with 1 Axes>"
      ]
     },
     "metadata": {},
     "output_type": "display_data"
    }
   ],
   "source": [
    "plt.figure(figsize=(10,2))\n",
    "plt.bar(obesity_ranks.index, obesity_ranks.values, color=\"green\")\n",
    "plt.title(\"Obezite Değerleri\")\n",
    "plt.xticks(rotation=45)\n",
    "plt.show()"
   ]
  },
  {
   "cell_type": "code",
   "execution_count": 14,
   "id": "9235b72f",
   "metadata": {
    "execution": {
     "iopub.execute_input": "2025-01-29T17:46:26.175940Z",
     "iopub.status.busy": "2025-01-29T17:46:26.175577Z",
     "iopub.status.idle": "2025-01-29T17:46:28.534733Z",
     "shell.execute_reply": "2025-01-29T17:46:28.533531Z"
    },
    "papermill": {
     "duration": 2.37063,
     "end_time": "2025-01-29T17:46:28.536574",
     "exception": false,
     "start_time": "2025-01-29T17:46:26.165944",
     "status": "completed"
    },
    "tags": []
   },
   "outputs": [
    {
     "data": {
      "image/png": "[encoded data removed]",
      "text/plain": [
       "<Figure size 640x480 with 1 Axes>"
      ]
     },
     "metadata": {},
     "output_type": "display_data"
    },
    {
     "data": {
      "image/png": "[encoded data removed]",
      "text/plain": [
       "<Figure size 640x480 with 1 Axes>"
      ]
     },
     "metadata": {},
     "output_type": "display_data"
    },
    {
     "data": {
      "image/png": "[encoded data removed]",
      "text/plain": [
       "<Figure size 640x480 with 1 Axes>"
      ]
     },
     "metadata": {},
     "output_type": "display_data"
    },
    {
     "data": {
      "image/png": "[encoded data removed]",
      "text/plain": [
       "<Figure size 640x480 with 1 Axes>"
      ]
     },
     "metadata": {},
     "output_type": "display_data"
    },
    {
     "data": {
      "image/png": "[encoded data removed]",
      "text/plain": [
       "<Figure size 640x480 with 1 Axes>"
      ]
     },
     "metadata": {},
     "output_type": "display_data"
    },
    {
     "data": {
      "image/png": "[encoded data removed]",
      "text/plain": [
       "<Figure size 640x480 with 1 Axes>"
      ]
     },
     "metadata": {},
     "output_type": "display_data"
    },
    {
     "data": {
      "image/png": "[encoded data removed]",
      "text/plain": [
       "<Figure size 640x480 with 1 Axes>"
      ]
     },
     "metadata": {},
     "output_type": "display_data"
    },
    {
     "data": {
      "image/png": "[encoded data removed]",
      "text/plain": [
       "<Figure size 640x480 with 1 Axes>"
      ]
     },
     "metadata": {},
     "output_type": "display_data"
    }
   ],
   "source": [
    "def plotHist(var):\n",
    "    plt.figure()\n",
    "    plt.hist(df[var], bins = 75, color = \"blue\")\n",
    "    plt.xlabel(var)\n",
    "    plt.ylabel(\"Frekans\")\n",
    "    plt.title(\"Veri Sıklığı - {}\".format(var))\n",
    "    plt.show()\n",
    "    \n",
    "numeric_cols = df.select_dtypes(include = [\"float64\"])\n",
    "for i in numeric_cols:\n",
    "    plotHist(i)"
   ]
  },
  {
   "cell_type": "code",
   "execution_count": 15,
   "id": "2ab2be71",
   "metadata": {
    "execution": {
     "iopub.execute_input": "2025-01-29T17:46:28.562251Z",
     "iopub.status.busy": "2025-01-29T17:46:28.561850Z",
     "iopub.status.idle": "2025-01-29T17:46:29.836491Z",
     "shell.execute_reply": "2025-01-29T17:46:29.835402Z"
    },
    "papermill": {
     "duration": 1.290105,
     "end_time": "2025-01-29T17:46:29.838262",
     "exception": false,
     "start_time": "2025-01-29T17:46:28.548157",
     "status": "completed"
    },
    "tags": []
   },
   "outputs": [
    {
     "data": {
      "image/png": "[encoded data removed]",
      "text/plain": [
       "<Figure size 800x600 with 1 Axes>"
      ]
     },
     "metadata": {},
     "output_type": "display_data"
    },
    {
     "data": {
      "image/png": "[encoded data removed]",
      "text/plain": [
       "<Figure size 800x600 with 1 Axes>"
      ]
     },
     "metadata": {},
     "output_type": "display_data"
    },
    {
     "data": {
      "image/png": "[encoded data removed]",
      "text/plain": [
       "<Figure size 800x600 with 1 Axes>"
      ]
     },
     "metadata": {},
     "output_type": "display_data"
    },
    {
     "data": {
      "image/png": "[encoded data removed]",
      "text/plain": [
       "<Figure size 800x600 with 1 Axes>"
      ]
     },
     "metadata": {},
     "output_type": "display_data"
    },
    {
     "data": {
      "image/png": "[encoded data removed]",
      "text/plain": [
       "<Figure size 800x600 with 1 Axes>"
      ]
     },
     "metadata": {},
     "output_type": "display_data"
    },
    {
     "data": {
      "image/png": "[encoded data removed]",
      "text/plain": [
       "<Figure size 800x600 with 1 Axes>"
      ]
     },
     "metadata": {},
     "output_type": "display_data"
    },
    {
     "data": {
      "image/png": "[encoded data removed]",
      "text/plain": [
       "<Figure size 800x600 with 1 Axes>"
      ]
     },
     "metadata": {},
     "output_type": "display_data"
    },
    {
     "data": {
      "image/png": "[encoded data removed]",
      "text/plain": [
       "<Figure size 800x600 with 1 Axes>"
      ]
     },
     "metadata": {},
     "output_type": "display_data"
    }
   ],
   "source": [
    "numeric_cols = df.select_dtypes(include = [\"float64\"])\n",
    "\n",
    "for col in numeric_cols.columns : \n",
    "    plt.figure(figsize=(8,6))\n",
    "    sns.boxplot(data = df[col] , orient = \"h\")\n",
    "    plt.ylabel(col)\n",
    "    plt.xlabel(\"frequency\")\n",
    "    plt.title(f\"Boxplot of {col}\")"
   ]
  },
  {
   "cell_type": "code",
   "execution_count": 16,
   "id": "78f8a911",
   "metadata": {
    "execution": {
     "iopub.execute_input": "2025-01-29T17:46:29.869027Z",
     "iopub.status.busy": "2025-01-29T17:46:29.868688Z",
     "iopub.status.idle": "2025-01-29T17:46:29.874631Z",
     "shell.execute_reply": "2025-01-29T17:46:29.873655Z"
    },
    "papermill": {
     "duration": 0.023288,
     "end_time": "2025-01-29T17:46:29.876302",
     "exception": false,
     "start_time": "2025-01-29T17:46:29.853014",
     "status": "completed"
    },
    "tags": []
   },
   "outputs": [
    {
     "data": {
      "text/plain": [
       "Index(['Gender', 'Age', 'Height', 'Weight', 'family_history', 'FAVC', 'FCVC',\n",
       "       'NCP', 'CAEC', 'SMOKE', 'CH2O', 'SCC', 'FAF', 'TUE', 'CALC', 'MTRANS',\n",
       "       'Obesity'],\n",
       "      dtype='object')"
      ]
     },
     "execution_count": 16,
     "metadata": {},
     "output_type": "execute_result"
    }
   ],
   "source": [
    "df.columns"
   ]
  },
  {
   "cell_type": "code",
   "execution_count": 17,
   "id": "6c5ee8b5",
   "metadata": {
    "execution": {
     "iopub.execute_input": "2025-01-29T17:46:29.906462Z",
     "iopub.status.busy": "2025-01-29T17:46:29.906084Z",
     "iopub.status.idle": "2025-01-29T17:46:29.913366Z",
     "shell.execute_reply": "2025-01-29T17:46:29.912064Z"
    },
    "papermill": {
     "duration": 0.024245,
     "end_time": "2025-01-29T17:46:29.915117",
     "exception": false,
     "start_time": "2025-01-29T17:46:29.890872",
     "status": "completed"
    },
    "tags": []
   },
   "outputs": [],
   "source": [
    "from collections import Counter\n",
    "\n",
    "def outlierDetect(df, ozellik=[\"Age\", \"Height\", \"Height\",\"NCP\"]):\n",
    "    outlier_indices = []\n",
    "    \n",
    "    for c in ozellik:\n",
    "        if c in df.columns and np.issubdtype(df[c].dtype, np.number):\n",
    "            q1 = np.percentile(df[c].dropna(), 25)\n",
    "        \n",
    "            q3 = np.percentile(df[c].dropna(), 75)\n",
    "    \n",
    "            iqr = q3 - q1\n",
    "        \n",
    "            outlier_step = 1.5 * iqr\n",
    "            üst_sinir = q3 + outlier_step\n",
    "            alt_sinir = q1 - outlier_step\n",
    "        \n",
    "            outlier_col_list = df[(df[c] < alt_sinir) | (df[c] > üst_sinir)].index\n",
    "            outlier_indices.extend(outlier_col_list)\n",
    "\n",
    "    outlier_indices = Counter(outlier_indices)\n",
    "    \n",
    "    outliers = list(i for i, v in outlier_indices.items() if v > 1)\n",
    "    \n",
    "    return outliers"
   ]
  },
  {
   "cell_type": "code",
   "execution_count": 18,
   "id": "058cc954",
   "metadata": {
    "execution": {
     "iopub.execute_input": "2025-01-29T17:46:29.945141Z",
     "iopub.status.busy": "2025-01-29T17:46:29.944807Z",
     "iopub.status.idle": "2025-01-29T17:46:29.956602Z",
     "shell.execute_reply": "2025-01-29T17:46:29.955734Z"
    },
    "papermill": {
     "duration": 0.028766,
     "end_time": "2025-01-29T17:46:29.958388",
     "exception": false,
     "start_time": "2025-01-29T17:46:29.929622",
     "status": "completed"
    },
    "tags": []
   },
   "outputs": [],
   "source": [
    "df_outlier = df.loc[outlierDetect(df, [\"Age\", \"Height\", \"Height\",\"NCP\"])]"
   ]
  },
  {
   "cell_type": "code",
   "execution_count": 19,
   "id": "b801d2bd",
   "metadata": {
    "execution": {
     "iopub.execute_input": "2025-01-29T17:46:29.988706Z",
     "iopub.status.busy": "2025-01-29T17:46:29.988328Z",
     "iopub.status.idle": "2025-01-29T17:46:29.993498Z",
     "shell.execute_reply": "2025-01-29T17:46:29.992561Z"
    },
    "papermill": {
     "duration": 0.022278,
     "end_time": "2025-01-29T17:46:29.995284",
     "exception": false,
     "start_time": "2025-01-29T17:46:29.973006",
     "status": "completed"
    },
    "tags": []
   },
   "outputs": [],
   "source": [
    "outlier_obesity = df_outlier.Obesity.value_counts()"
   ]
  },
  {
   "cell_type": "code",
   "execution_count": 20,
   "id": "ccccbcba",
   "metadata": {
    "execution": {
     "iopub.execute_input": "2025-01-29T17:46:30.027070Z",
     "iopub.status.busy": "2025-01-29T17:46:30.026724Z",
     "iopub.status.idle": "2025-01-29T17:46:30.173068Z",
     "shell.execute_reply": "2025-01-29T17:46:30.171792Z"
    },
    "papermill": {
     "duration": 0.164336,
     "end_time": "2025-01-29T17:46:30.174880",
     "exception": false,
     "start_time": "2025-01-29T17:46:30.010544",
     "status": "completed"
    },
    "tags": []
   },
   "outputs": [
    {
     "data": {
      "image/png": "[encoded data removed]",
      "text/plain": [
       "<Figure size 640x480 with 1 Axes>"
      ]
     },
     "metadata": {},
     "output_type": "display_data"
    }
   ],
   "source": [
    "plt.figure()\n",
    "plt.bar(outlier_obesity.index, outlier_obesity.values)\n",
    "plt.xticks(rotation=30)\n",
    "plt.show()"
   ]
  },
  {
   "cell_type": "code",
   "execution_count": 21,
   "id": "92b6ac53",
   "metadata": {
    "execution": {
     "iopub.execute_input": "2025-01-29T17:46:30.206642Z",
     "iopub.status.busy": "2025-01-29T17:46:30.206236Z",
     "iopub.status.idle": "2025-01-29T17:46:30.212241Z",
     "shell.execute_reply": "2025-01-29T17:46:30.211072Z"
    },
    "papermill": {
     "duration": 0.023571,
     "end_time": "2025-01-29T17:46:30.213809",
     "exception": false,
     "start_time": "2025-01-29T17:46:30.190238",
     "status": "completed"
    },
    "tags": []
   },
   "outputs": [],
   "source": [
    "outlier_index_list = df_outlier.index.tolist()\n",
    "df_cleaned = df.drop(index=outlier_index_list)"
   ]
  },
  {
   "cell_type": "code",
   "execution_count": 22,
   "id": "fd5400a8",
   "metadata": {
    "execution": {
     "iopub.execute_input": "2025-01-29T17:46:30.246095Z",
     "iopub.status.busy": "2025-01-29T17:46:30.245717Z",
     "iopub.status.idle": "2025-01-29T17:46:30.257652Z",
     "shell.execute_reply": "2025-01-29T17:46:30.256364Z"
    },
    "papermill": {
     "duration": 0.030247,
     "end_time": "2025-01-29T17:46:30.259563",
     "exception": false,
     "start_time": "2025-01-29T17:46:30.229316",
     "status": "completed"
    },
    "tags": []
   },
   "outputs": [
    {
     "name": "stdout",
     "output_type": "stream",
     "text": [
      "<class 'pandas.core.frame.DataFrame'>\n",
      "Index: 2039 entries, 0 to 2110\n",
      "Data columns (total 17 columns):\n",
      " #   Column          Non-Null Count  Dtype  \n",
      "---  ------          --------------  -----  \n",
      " 0   Gender          2039 non-null   object \n",
      " 1   Age             2039 non-null   float64\n",
      " 2   Height          2039 non-null   float64\n",
      " 3   Weight          2039 non-null   float64\n",
      " 4   family_history  2039 non-null   object \n",
      " 5   FAVC            2039 non-null   object \n",
      " 6   FCVC            2039 non-null   float64\n",
      " 7   NCP             2039 non-null   float64\n",
      " 8   CAEC            2039 non-null   object \n",
      " 9   SMOKE           2039 non-null   object \n",
      " 10  CH2O            2039 non-null   float64\n",
      " 11  SCC             2039 non-null   object \n",
      " 12  FAF             2039 non-null   float64\n",
      " 13  TUE             2039 non-null   float64\n",
      " 14  CALC            2039 non-null   object \n",
      " 15  MTRANS          2039 non-null   object \n",
      " 16  Obesity         2039 non-null   object \n",
      "dtypes: float64(8), object(9)\n",
      "memory usage: 286.7+ KB\n"
     ]
    }
   ],
   "source": [
    "df_cleaned.info()"
   ]
  },
  {
   "cell_type": "code",
   "execution_count": 23,
   "id": "5cfdc43e",
   "metadata": {
    "execution": {
     "iopub.execute_input": "2025-01-29T17:46:30.292267Z",
     "iopub.status.busy": "2025-01-29T17:46:30.291901Z",
     "iopub.status.idle": "2025-01-29T17:46:30.315013Z",
     "shell.execute_reply": "2025-01-29T17:46:30.313930Z"
    },
    "papermill": {
     "duration": 0.041375,
     "end_time": "2025-01-29T17:46:30.316723",
     "exception": false,
     "start_time": "2025-01-29T17:46:30.275348",
     "status": "completed"
    },
    "tags": []
   },
   "outputs": [
    {
     "data": {
      "text/html": [
       "<div>\n",
       "<style scoped>\n",
       "    .dataframe tbody tr th:only-of-type {\n",
       "        vertical-align: middle;\n",
       "    }\n",
       "\n",
       "    .dataframe tbody tr th {\n",
       "        vertical-align: top;\n",
       "    }\n",
       "\n",
       "    .dataframe thead th {\n",
       "        text-align: right;\n",
       "    }\n",
       "</style>\n",
       "<table border=\"1\" class=\"dataframe\">\n",
       "  <thead>\n",
       "    <tr style=\"text-align: right;\">\n",
       "      <th></th>\n",
       "      <th>Gender</th>\n",
       "      <th>Age</th>\n",
       "      <th>Height</th>\n",
       "      <th>Weight</th>\n",
       "      <th>family_history</th>\n",
       "      <th>FAVC</th>\n",
       "      <th>FCVC</th>\n",
       "      <th>NCP</th>\n",
       "      <th>CAEC</th>\n",
       "      <th>SMOKE</th>\n",
       "      <th>CH2O</th>\n",
       "      <th>SCC</th>\n",
       "      <th>FAF</th>\n",
       "      <th>TUE</th>\n",
       "      <th>CALC</th>\n",
       "      <th>MTRANS</th>\n",
       "      <th>Obesity</th>\n",
       "      <th>bmi</th>\n",
       "    </tr>\n",
       "  </thead>\n",
       "  <tbody>\n",
       "    <tr>\n",
       "      <th>0</th>\n",
       "      <td>Female</td>\n",
       "      <td>21.0</td>\n",
       "      <td>1.62</td>\n",
       "      <td>64.0</td>\n",
       "      <td>yes</td>\n",
       "      <td>no</td>\n",
       "      <td>2.0</td>\n",
       "      <td>3.0</td>\n",
       "      <td>Sometimes</td>\n",
       "      <td>no</td>\n",
       "      <td>2.0</td>\n",
       "      <td>no</td>\n",
       "      <td>0.0</td>\n",
       "      <td>1.0</td>\n",
       "      <td>no</td>\n",
       "      <td>Public_Transportation</td>\n",
       "      <td>Normal_Weight</td>\n",
       "      <td>24.386526</td>\n",
       "    </tr>\n",
       "    <tr>\n",
       "      <th>1</th>\n",
       "      <td>Female</td>\n",
       "      <td>21.0</td>\n",
       "      <td>1.52</td>\n",
       "      <td>56.0</td>\n",
       "      <td>yes</td>\n",
       "      <td>no</td>\n",
       "      <td>3.0</td>\n",
       "      <td>3.0</td>\n",
       "      <td>Sometimes</td>\n",
       "      <td>yes</td>\n",
       "      <td>3.0</td>\n",
       "      <td>yes</td>\n",
       "      <td>3.0</td>\n",
       "      <td>0.0</td>\n",
       "      <td>Sometimes</td>\n",
       "      <td>Public_Transportation</td>\n",
       "      <td>Normal_Weight</td>\n",
       "      <td>24.238227</td>\n",
       "    </tr>\n",
       "    <tr>\n",
       "      <th>2</th>\n",
       "      <td>Male</td>\n",
       "      <td>23.0</td>\n",
       "      <td>1.80</td>\n",
       "      <td>77.0</td>\n",
       "      <td>yes</td>\n",
       "      <td>no</td>\n",
       "      <td>2.0</td>\n",
       "      <td>3.0</td>\n",
       "      <td>Sometimes</td>\n",
       "      <td>no</td>\n",
       "      <td>2.0</td>\n",
       "      <td>no</td>\n",
       "      <td>2.0</td>\n",
       "      <td>1.0</td>\n",
       "      <td>Frequently</td>\n",
       "      <td>Public_Transportation</td>\n",
       "      <td>Normal_Weight</td>\n",
       "      <td>23.765432</td>\n",
       "    </tr>\n",
       "    <tr>\n",
       "      <th>3</th>\n",
       "      <td>Male</td>\n",
       "      <td>27.0</td>\n",
       "      <td>1.80</td>\n",
       "      <td>87.0</td>\n",
       "      <td>no</td>\n",
       "      <td>no</td>\n",
       "      <td>3.0</td>\n",
       "      <td>3.0</td>\n",
       "      <td>Sometimes</td>\n",
       "      <td>no</td>\n",
       "      <td>2.0</td>\n",
       "      <td>no</td>\n",
       "      <td>2.0</td>\n",
       "      <td>0.0</td>\n",
       "      <td>Frequently</td>\n",
       "      <td>Walking</td>\n",
       "      <td>Overweight_Level_I</td>\n",
       "      <td>26.851852</td>\n",
       "    </tr>\n",
       "    <tr>\n",
       "      <th>4</th>\n",
       "      <td>Male</td>\n",
       "      <td>22.0</td>\n",
       "      <td>1.78</td>\n",
       "      <td>89.8</td>\n",
       "      <td>no</td>\n",
       "      <td>no</td>\n",
       "      <td>2.0</td>\n",
       "      <td>1.0</td>\n",
       "      <td>Sometimes</td>\n",
       "      <td>no</td>\n",
       "      <td>2.0</td>\n",
       "      <td>no</td>\n",
       "      <td>0.0</td>\n",
       "      <td>0.0</td>\n",
       "      <td>Sometimes</td>\n",
       "      <td>Public_Transportation</td>\n",
       "      <td>Overweight_Level_II</td>\n",
       "      <td>28.342381</td>\n",
       "    </tr>\n",
       "  </tbody>\n",
       "</table>\n",
       "</div>"
      ],
      "text/plain": [
       "   Gender   Age  Height  Weight family_history FAVC  FCVC  NCP       CAEC  \\\n",
       "0  Female  21.0    1.62    64.0            yes   no   2.0  3.0  Sometimes   \n",
       "1  Female  21.0    1.52    56.0            yes   no   3.0  3.0  Sometimes   \n",
       "2    Male  23.0    1.80    77.0            yes   no   2.0  3.0  Sometimes   \n",
       "3    Male  27.0    1.80    87.0             no   no   3.0  3.0  Sometimes   \n",
       "4    Male  22.0    1.78    89.8             no   no   2.0  1.0  Sometimes   \n",
       "\n",
       "  SMOKE  CH2O  SCC  FAF  TUE        CALC                 MTRANS  \\\n",
       "0    no   2.0   no  0.0  1.0          no  Public_Transportation   \n",
       "1   yes   3.0  yes  3.0  0.0   Sometimes  Public_Transportation   \n",
       "2    no   2.0   no  2.0  1.0  Frequently  Public_Transportation   \n",
       "3    no   2.0   no  2.0  0.0  Frequently                Walking   \n",
       "4    no   2.0   no  0.0  0.0   Sometimes  Public_Transportation   \n",
       "\n",
       "               Obesity        bmi  \n",
       "0        Normal_Weight  24.386526  \n",
       "1        Normal_Weight  24.238227  \n",
       "2        Normal_Weight  23.765432  \n",
       "3   Overweight_Level_I  26.851852  \n",
       "4  Overweight_Level_II  28.342381  "
      ]
     },
     "execution_count": 23,
     "metadata": {},
     "output_type": "execute_result"
    }
   ],
   "source": [
    "df_cleaned[\"bmi\"] = df_cleaned[\"Weight\"] / (df_cleaned[\"Height\"] ** 2)\n",
    "df_cleaned.head()"
   ]
  },
  {
   "cell_type": "code",
   "execution_count": 24,
   "id": "80d6032f",
   "metadata": {
    "execution": {
     "iopub.execute_input": "2025-01-29T17:46:30.349559Z",
     "iopub.status.busy": "2025-01-29T17:46:30.349176Z",
     "iopub.status.idle": "2025-01-29T17:46:30.356365Z",
     "shell.execute_reply": "2025-01-29T17:46:30.355392Z"
    },
    "papermill": {
     "duration": 0.025858,
     "end_time": "2025-01-29T17:46:30.358303",
     "exception": false,
     "start_time": "2025-01-29T17:46:30.332445",
     "status": "completed"
    },
    "tags": []
   },
   "outputs": [],
   "source": [
    "df_cleaned = df_cleaned.drop([\"Weight\", \"Height\"], axis=1)"
   ]
  },
  {
   "cell_type": "code",
   "execution_count": 25,
   "id": "7c3e4b79",
   "metadata": {
    "execution": {
     "iopub.execute_input": "2025-01-29T17:46:30.391457Z",
     "iopub.status.busy": "2025-01-29T17:46:30.391097Z",
     "iopub.status.idle": "2025-01-29T17:46:30.409202Z",
     "shell.execute_reply": "2025-01-29T17:46:30.408337Z"
    },
    "papermill": {
     "duration": 0.036222,
     "end_time": "2025-01-29T17:46:30.410785",
     "exception": false,
     "start_time": "2025-01-29T17:46:30.374563",
     "status": "completed"
    },
    "tags": []
   },
   "outputs": [
    {
     "data": {
      "text/html": [
       "<div>\n",
       "<style scoped>\n",
       "    .dataframe tbody tr th:only-of-type {\n",
       "        vertical-align: middle;\n",
       "    }\n",
       "\n",
       "    .dataframe tbody tr th {\n",
       "        vertical-align: top;\n",
       "    }\n",
       "\n",
       "    .dataframe thead th {\n",
       "        text-align: right;\n",
       "    }\n",
       "</style>\n",
       "<table border=\"1\" class=\"dataframe\">\n",
       "  <thead>\n",
       "    <tr style=\"text-align: right;\">\n",
       "      <th></th>\n",
       "      <th>Gender</th>\n",
       "      <th>Age</th>\n",
       "      <th>family_history</th>\n",
       "      <th>FAVC</th>\n",
       "      <th>FCVC</th>\n",
       "      <th>NCP</th>\n",
       "      <th>CAEC</th>\n",
       "      <th>SMOKE</th>\n",
       "      <th>CH2O</th>\n",
       "      <th>SCC</th>\n",
       "      <th>FAF</th>\n",
       "      <th>TUE</th>\n",
       "      <th>CALC</th>\n",
       "      <th>MTRANS</th>\n",
       "      <th>Obesity</th>\n",
       "      <th>bmi</th>\n",
       "    </tr>\n",
       "  </thead>\n",
       "  <tbody>\n",
       "    <tr>\n",
       "      <th>0</th>\n",
       "      <td>Female</td>\n",
       "      <td>21.0</td>\n",
       "      <td>yes</td>\n",
       "      <td>no</td>\n",
       "      <td>2.0</td>\n",
       "      <td>3.0</td>\n",
       "      <td>Sometimes</td>\n",
       "      <td>no</td>\n",
       "      <td>2.0</td>\n",
       "      <td>no</td>\n",
       "      <td>0.0</td>\n",
       "      <td>1.0</td>\n",
       "      <td>no</td>\n",
       "      <td>Public_Transportation</td>\n",
       "      <td>Normal_Weight</td>\n",
       "      <td>24.386526</td>\n",
       "    </tr>\n",
       "    <tr>\n",
       "      <th>1</th>\n",
       "      <td>Female</td>\n",
       "      <td>21.0</td>\n",
       "      <td>yes</td>\n",
       "      <td>no</td>\n",
       "      <td>3.0</td>\n",
       "      <td>3.0</td>\n",
       "      <td>Sometimes</td>\n",
       "      <td>yes</td>\n",
       "      <td>3.0</td>\n",
       "      <td>yes</td>\n",
       "      <td>3.0</td>\n",
       "      <td>0.0</td>\n",
       "      <td>Sometimes</td>\n",
       "      <td>Public_Transportation</td>\n",
       "      <td>Normal_Weight</td>\n",
       "      <td>24.238227</td>\n",
       "    </tr>\n",
       "    <tr>\n",
       "      <th>2</th>\n",
       "      <td>Male</td>\n",
       "      <td>23.0</td>\n",
       "      <td>yes</td>\n",
       "      <td>no</td>\n",
       "      <td>2.0</td>\n",
       "      <td>3.0</td>\n",
       "      <td>Sometimes</td>\n",
       "      <td>no</td>\n",
       "      <td>2.0</td>\n",
       "      <td>no</td>\n",
       "      <td>2.0</td>\n",
       "      <td>1.0</td>\n",
       "      <td>Frequently</td>\n",
       "      <td>Public_Transportation</td>\n",
       "      <td>Normal_Weight</td>\n",
       "      <td>23.765432</td>\n",
       "    </tr>\n",
       "    <tr>\n",
       "      <th>3</th>\n",
       "      <td>Male</td>\n",
       "      <td>27.0</td>\n",
       "      <td>no</td>\n",
       "      <td>no</td>\n",
       "      <td>3.0</td>\n",
       "      <td>3.0</td>\n",
       "      <td>Sometimes</td>\n",
       "      <td>no</td>\n",
       "      <td>2.0</td>\n",
       "      <td>no</td>\n",
       "      <td>2.0</td>\n",
       "      <td>0.0</td>\n",
       "      <td>Frequently</td>\n",
       "      <td>Walking</td>\n",
       "      <td>Overweight_Level_I</td>\n",
       "      <td>26.851852</td>\n",
       "    </tr>\n",
       "    <tr>\n",
       "      <th>4</th>\n",
       "      <td>Male</td>\n",
       "      <td>22.0</td>\n",
       "      <td>no</td>\n",
       "      <td>no</td>\n",
       "      <td>2.0</td>\n",
       "      <td>1.0</td>\n",
       "      <td>Sometimes</td>\n",
       "      <td>no</td>\n",
       "      <td>2.0</td>\n",
       "      <td>no</td>\n",
       "      <td>0.0</td>\n",
       "      <td>0.0</td>\n",
       "      <td>Sometimes</td>\n",
       "      <td>Public_Transportation</td>\n",
       "      <td>Overweight_Level_II</td>\n",
       "      <td>28.342381</td>\n",
       "    </tr>\n",
       "  </tbody>\n",
       "</table>\n",
       "</div>"
      ],
      "text/plain": [
       "   Gender   Age family_history FAVC  FCVC  NCP       CAEC SMOKE  CH2O  SCC  \\\n",
       "0  Female  21.0            yes   no   2.0  3.0  Sometimes    no   2.0   no   \n",
       "1  Female  21.0            yes   no   3.0  3.0  Sometimes   yes   3.0  yes   \n",
       "2    Male  23.0            yes   no   2.0  3.0  Sometimes    no   2.0   no   \n",
       "3    Male  27.0             no   no   3.0  3.0  Sometimes    no   2.0   no   \n",
       "4    Male  22.0             no   no   2.0  1.0  Sometimes    no   2.0   no   \n",
       "\n",
       "   FAF  TUE        CALC                 MTRANS              Obesity        bmi  \n",
       "0  0.0  1.0          no  Public_Transportation        Normal_Weight  24.386526  \n",
       "1  3.0  0.0   Sometimes  Public_Transportation        Normal_Weight  24.238227  \n",
       "2  2.0  1.0  Frequently  Public_Transportation        Normal_Weight  23.765432  \n",
       "3  2.0  0.0  Frequently                Walking   Overweight_Level_I  26.851852  \n",
       "4  0.0  0.0   Sometimes  Public_Transportation  Overweight_Level_II  28.342381  "
      ]
     },
     "execution_count": 25,
     "metadata": {},
     "output_type": "execute_result"
    }
   ],
   "source": [
    "df_cleaned.head()"
   ]
  },
  {
   "cell_type": "code",
   "execution_count": 26,
   "id": "d60909b2",
   "metadata": {
    "execution": {
     "iopub.execute_input": "2025-01-29T17:46:30.444492Z",
     "iopub.status.busy": "2025-01-29T17:46:30.444121Z",
     "iopub.status.idle": "2025-01-29T17:46:30.939514Z",
     "shell.execute_reply": "2025-01-29T17:46:30.938217Z"
    },
    "papermill": {
     "duration": 0.514779,
     "end_time": "2025-01-29T17:46:30.941473",
     "exception": false,
     "start_time": "2025-01-29T17:46:30.426694",
     "status": "completed"
    },
    "tags": []
   },
   "outputs": [
    {
     "data": {
      "image/png": "[encoded data removed]",
      "text/plain": [
       "<Figure size 640x480 with 2 Axes>"
      ]
     },
     "metadata": {},
     "output_type": "display_data"
    }
   ],
   "source": [
    "corr_matrix = df_cleaned.select_dtypes(include=[\"float64\"]).corr()\n",
    "\n",
    "sns.heatmap(corr_matrix, cmap='coolwarm', annot=True, fmt=\".2f\", vmin=-1, vmax=1, linewidths=0.5)\n",
    "plt.title(\"Korelasyon Matrisi\")\n",
    "plt.show()"
   ]
  },
  {
   "cell_type": "code",
   "execution_count": 27,
   "id": "2846de1a",
   "metadata": {
    "execution": {
     "iopub.execute_input": "2025-01-29T17:46:30.981717Z",
     "iopub.status.busy": "2025-01-29T17:46:30.981307Z",
     "iopub.status.idle": "2025-01-29T17:46:31.669240Z",
     "shell.execute_reply": "2025-01-29T17:46:31.667912Z"
    },
    "papermill": {
     "duration": 0.711851,
     "end_time": "2025-01-29T17:46:31.671123",
     "exception": false,
     "start_time": "2025-01-29T17:46:30.959272",
     "status": "completed"
    },
    "tags": []
   },
   "outputs": [],
   "source": [
    "from sklearn.tree import DecisionTreeClassifier \n",
    "from sklearn.metrics import accuracy_score\n",
    "from sklearn.model_selection import train_test_split\n",
    "from sklearn.preprocessing import StandardScaler\n",
    "from sklearn.metrics import classification_report\n",
    "from sklearn.decomposition import PCA"
   ]
  },
  {
   "cell_type": "code",
   "execution_count": 28,
   "id": "4b2f1fdf",
   "metadata": {
    "execution": {
     "iopub.execute_input": "2025-01-29T17:46:31.707443Z",
     "iopub.status.busy": "2025-01-29T17:46:31.707051Z",
     "iopub.status.idle": "2025-01-29T17:46:31.712492Z",
     "shell.execute_reply": "2025-01-29T17:46:31.711502Z"
    },
    "papermill": {
     "duration": 0.025302,
     "end_time": "2025-01-29T17:46:31.714210",
     "exception": false,
     "start_time": "2025-01-29T17:46:31.688908",
     "status": "completed"
    },
    "tags": []
   },
   "outputs": [],
   "source": [
    "X = df_cleaned.drop([\"Obesity\"],axis=1)\n",
    "y = df_cleaned[\"Obesity\"]"
   ]
  },
  {
   "cell_type": "code",
   "execution_count": 29,
   "id": "9cd63e00",
   "metadata": {
    "execution": {
     "iopub.execute_input": "2025-01-29T17:46:31.751946Z",
     "iopub.status.busy": "2025-01-29T17:46:31.751517Z",
     "iopub.status.idle": "2025-01-29T17:46:31.764825Z",
     "shell.execute_reply": "2025-01-29T17:46:31.763870Z"
    },
    "papermill": {
     "duration": 0.033843,
     "end_time": "2025-01-29T17:46:31.766586",
     "exception": false,
     "start_time": "2025-01-29T17:46:31.732743",
     "status": "completed"
    },
    "tags": []
   },
   "outputs": [],
   "source": [
    "X = pd.get_dummies(X , drop_first = True )"
   ]
  },
  {
   "cell_type": "code",
   "execution_count": 30,
   "id": "2e4d01a1",
   "metadata": {
    "execution": {
     "iopub.execute_input": "2025-01-29T17:46:31.804441Z",
     "iopub.status.busy": "2025-01-29T17:46:31.804062Z",
     "iopub.status.idle": "2025-01-29T17:46:31.832958Z",
     "shell.execute_reply": "2025-01-29T17:46:31.831764Z"
    },
    "papermill": {
     "duration": 0.049421,
     "end_time": "2025-01-29T17:46:31.834805",
     "exception": false,
     "start_time": "2025-01-29T17:46:31.785384",
     "status": "completed"
    },
    "tags": []
   },
   "outputs": [
    {
     "data": {
      "text/html": [
       "<div>\n",
       "<style scoped>\n",
       "    .dataframe tbody tr th:only-of-type {\n",
       "        vertical-align: middle;\n",
       "    }\n",
       "\n",
       "    .dataframe tbody tr th {\n",
       "        vertical-align: top;\n",
       "    }\n",
       "\n",
       "    .dataframe thead th {\n",
       "        text-align: right;\n",
       "    }\n",
       "</style>\n",
       "<table border=\"1\" class=\"dataframe\">\n",
       "  <thead>\n",
       "    <tr style=\"text-align: right;\">\n",
       "      <th></th>\n",
       "      <th>Age</th>\n",
       "      <th>FCVC</th>\n",
       "      <th>NCP</th>\n",
       "      <th>CH2O</th>\n",
       "      <th>FAF</th>\n",
       "      <th>TUE</th>\n",
       "      <th>bmi</th>\n",
       "      <th>Gender_Male</th>\n",
       "      <th>family_history_yes</th>\n",
       "      <th>FAVC_yes</th>\n",
       "      <th>...</th>\n",
       "      <th>CAEC_no</th>\n",
       "      <th>SMOKE_yes</th>\n",
       "      <th>SCC_yes</th>\n",
       "      <th>CALC_Frequently</th>\n",
       "      <th>CALC_Sometimes</th>\n",
       "      <th>CALC_no</th>\n",
       "      <th>MTRANS_Bike</th>\n",
       "      <th>MTRANS_Motorbike</th>\n",
       "      <th>MTRANS_Public_Transportation</th>\n",
       "      <th>MTRANS_Walking</th>\n",
       "    </tr>\n",
       "  </thead>\n",
       "  <tbody>\n",
       "    <tr>\n",
       "      <th>0</th>\n",
       "      <td>21.000000</td>\n",
       "      <td>2.0</td>\n",
       "      <td>3.0</td>\n",
       "      <td>2.000000</td>\n",
       "      <td>0.000000</td>\n",
       "      <td>1.000000</td>\n",
       "      <td>24.386526</td>\n",
       "      <td>False</td>\n",
       "      <td>True</td>\n",
       "      <td>False</td>\n",
       "      <td>...</td>\n",
       "      <td>False</td>\n",
       "      <td>False</td>\n",
       "      <td>False</td>\n",
       "      <td>False</td>\n",
       "      <td>False</td>\n",
       "      <td>True</td>\n",
       "      <td>False</td>\n",
       "      <td>False</td>\n",
       "      <td>True</td>\n",
       "      <td>False</td>\n",
       "    </tr>\n",
       "    <tr>\n",
       "      <th>1</th>\n",
       "      <td>21.000000</td>\n",
       "      <td>3.0</td>\n",
       "      <td>3.0</td>\n",
       "      <td>3.000000</td>\n",
       "      <td>3.000000</td>\n",
       "      <td>0.000000</td>\n",
       "      <td>24.238227</td>\n",
       "      <td>False</td>\n",
       "      <td>True</td>\n",
       "      <td>False</td>\n",
       "      <td>...</td>\n",
       "      <td>False</td>\n",
       "      <td>True</td>\n",
       "      <td>True</td>\n",
       "      <td>False</td>\n",
       "      <td>True</td>\n",
       "      <td>False</td>\n",
       "      <td>False</td>\n",
       "      <td>False</td>\n",
       "      <td>True</td>\n",
       "      <td>False</td>\n",
       "    </tr>\n",
       "    <tr>\n",
       "      <th>2</th>\n",
       "      <td>23.000000</td>\n",
       "      <td>2.0</td>\n",
       "      <td>3.0</td>\n",
       "      <td>2.000000</td>\n",
       "      <td>2.000000</td>\n",
       "      <td>1.000000</td>\n",
       "      <td>23.765432</td>\n",
       "      <td>True</td>\n",
       "      <td>True</td>\n",
       "      <td>False</td>\n",
       "      <td>...</td>\n",
       "      <td>False</td>\n",
       "      <td>False</td>\n",
       "      <td>False</td>\n",
       "      <td>True</td>\n",
       "      <td>False</td>\n",
       "      <td>False</td>\n",
       "      <td>False</td>\n",
       "      <td>False</td>\n",
       "      <td>True</td>\n",
       "      <td>False</td>\n",
       "    </tr>\n",
       "    <tr>\n",
       "      <th>3</th>\n",
       "      <td>27.000000</td>\n",
       "      <td>3.0</td>\n",
       "      <td>3.0</td>\n",
       "      <td>2.000000</td>\n",
       "      <td>2.000000</td>\n",
       "      <td>0.000000</td>\n",
       "      <td>26.851852</td>\n",
       "      <td>True</td>\n",
       "      <td>False</td>\n",
       "      <td>False</td>\n",
       "      <td>...</td>\n",
       "      <td>False</td>\n",
       "      <td>False</td>\n",
       "      <td>False</td>\n",
       "      <td>True</td>\n",
       "      <td>False</td>\n",
       "      <td>False</td>\n",
       "      <td>False</td>\n",
       "      <td>False</td>\n",
       "      <td>False</td>\n",
       "      <td>True</td>\n",
       "    </tr>\n",
       "    <tr>\n",
       "      <th>4</th>\n",
       "      <td>22.000000</td>\n",
       "      <td>2.0</td>\n",
       "      <td>1.0</td>\n",
       "      <td>2.000000</td>\n",
       "      <td>0.000000</td>\n",
       "      <td>0.000000</td>\n",
       "      <td>28.342381</td>\n",
       "      <td>True</td>\n",
       "      <td>False</td>\n",
       "      <td>False</td>\n",
       "      <td>...</td>\n",
       "      <td>False</td>\n",
       "      <td>False</td>\n",
       "      <td>False</td>\n",
       "      <td>False</td>\n",
       "      <td>True</td>\n",
       "      <td>False</td>\n",
       "      <td>False</td>\n",
       "      <td>False</td>\n",
       "      <td>True</td>\n",
       "      <td>False</td>\n",
       "    </tr>\n",
       "    <tr>\n",
       "      <th>...</th>\n",
       "      <td>...</td>\n",
       "      <td>...</td>\n",
       "      <td>...</td>\n",
       "      <td>...</td>\n",
       "      <td>...</td>\n",
       "      <td>...</td>\n",
       "      <td>...</td>\n",
       "      <td>...</td>\n",
       "      <td>...</td>\n",
       "      <td>...</td>\n",
       "      <td>...</td>\n",
       "      <td>...</td>\n",
       "      <td>...</td>\n",
       "      <td>...</td>\n",
       "      <td>...</td>\n",
       "      <td>...</td>\n",
       "      <td>...</td>\n",
       "      <td>...</td>\n",
       "      <td>...</td>\n",
       "      <td>...</td>\n",
       "      <td>...</td>\n",
       "    </tr>\n",
       "    <tr>\n",
       "      <th>2106</th>\n",
       "      <td>20.976842</td>\n",
       "      <td>3.0</td>\n",
       "      <td>3.0</td>\n",
       "      <td>1.728139</td>\n",
       "      <td>1.676269</td>\n",
       "      <td>0.906247</td>\n",
       "      <td>44.901475</td>\n",
       "      <td>False</td>\n",
       "      <td>True</td>\n",
       "      <td>True</td>\n",
       "      <td>...</td>\n",
       "      <td>False</td>\n",
       "      <td>False</td>\n",
       "      <td>False</td>\n",
       "      <td>False</td>\n",
       "      <td>True</td>\n",
       "      <td>False</td>\n",
       "      <td>False</td>\n",
       "      <td>False</td>\n",
       "      <td>True</td>\n",
       "      <td>False</td>\n",
       "    </tr>\n",
       "    <tr>\n",
       "      <th>2107</th>\n",
       "      <td>21.982942</td>\n",
       "      <td>3.0</td>\n",
       "      <td>3.0</td>\n",
       "      <td>2.005130</td>\n",
       "      <td>1.341390</td>\n",
       "      <td>0.599270</td>\n",
       "      <td>43.741923</td>\n",
       "      <td>False</td>\n",
       "      <td>True</td>\n",
       "      <td>True</td>\n",
       "      <td>...</td>\n",
       "      <td>False</td>\n",
       "      <td>False</td>\n",
       "      <td>False</td>\n",
       "      <td>False</td>\n",
       "      <td>True</td>\n",
       "      <td>False</td>\n",
       "      <td>False</td>\n",
       "      <td>False</td>\n",
       "      <td>True</td>\n",
       "      <td>False</td>\n",
       "    </tr>\n",
       "    <tr>\n",
       "      <th>2108</th>\n",
       "      <td>22.524036</td>\n",
       "      <td>3.0</td>\n",
       "      <td>3.0</td>\n",
       "      <td>2.054193</td>\n",
       "      <td>1.414209</td>\n",
       "      <td>0.646288</td>\n",
       "      <td>43.543817</td>\n",
       "      <td>False</td>\n",
       "      <td>True</td>\n",
       "      <td>True</td>\n",
       "      <td>...</td>\n",
       "      <td>False</td>\n",
       "      <td>False</td>\n",
       "      <td>False</td>\n",
       "      <td>False</td>\n",
       "      <td>True</td>\n",
       "      <td>False</td>\n",
       "      <td>False</td>\n",
       "      <td>False</td>\n",
       "      <td>True</td>\n",
       "      <td>False</td>\n",
       "    </tr>\n",
       "    <tr>\n",
       "      <th>2109</th>\n",
       "      <td>24.361936</td>\n",
       "      <td>3.0</td>\n",
       "      <td>3.0</td>\n",
       "      <td>2.852339</td>\n",
       "      <td>1.139107</td>\n",
       "      <td>0.586035</td>\n",
       "      <td>44.071535</td>\n",
       "      <td>False</td>\n",
       "      <td>True</td>\n",
       "      <td>True</td>\n",
       "      <td>...</td>\n",
       "      <td>False</td>\n",
       "      <td>False</td>\n",
       "      <td>False</td>\n",
       "      <td>False</td>\n",
       "      <td>True</td>\n",
       "      <td>False</td>\n",
       "      <td>False</td>\n",
       "      <td>False</td>\n",
       "      <td>True</td>\n",
       "      <td>False</td>\n",
       "    </tr>\n",
       "    <tr>\n",
       "      <th>2110</th>\n",
       "      <td>23.664709</td>\n",
       "      <td>3.0</td>\n",
       "      <td>3.0</td>\n",
       "      <td>2.863513</td>\n",
       "      <td>1.026452</td>\n",
       "      <td>0.714137</td>\n",
       "      <td>44.144338</td>\n",
       "      <td>False</td>\n",
       "      <td>True</td>\n",
       "      <td>True</td>\n",
       "      <td>...</td>\n",
       "      <td>False</td>\n",
       "      <td>False</td>\n",
       "      <td>False</td>\n",
       "      <td>False</td>\n",
       "      <td>True</td>\n",
       "      <td>False</td>\n",
       "      <td>False</td>\n",
       "      <td>False</td>\n",
       "      <td>True</td>\n",
       "      <td>False</td>\n",
       "    </tr>\n",
       "  </tbody>\n",
       "</table>\n",
       "<p>2039 rows × 22 columns</p>\n",
       "</div>"
      ],
      "text/plain": [
       "            Age  FCVC  NCP      CH2O       FAF       TUE        bmi  \\\n",
       "0     21.000000   2.0  3.0  2.000000  0.000000  1.000000  24.386526   \n",
       "1     21.000000   3.0  3.0  3.000000  3.000000  0.000000  24.238227   \n",
       "2     23.000000   2.0  3.0  2.000000  2.000000  1.000000  23.765432   \n",
       "3     27.000000   3.0  3.0  2.000000  2.000000  0.000000  26.851852   \n",
       "4     22.000000   2.0  1.0  2.000000  0.000000  0.000000  28.342381   \n",
       "...         ...   ...  ...       ...       ...       ...        ...   \n",
       "2106  20.976842   3.0  3.0  1.728139  1.676269  0.906247  44.901475   \n",
       "2107  21.982942   3.0  3.0  2.005130  1.341390  0.599270  43.741923   \n",
       "2108  22.524036   3.0  3.0  2.054193  1.414209  0.646288  43.543817   \n",
       "2109  24.361936   3.0  3.0  2.852339  1.139107  0.586035  44.071535   \n",
       "2110  23.664709   3.0  3.0  2.863513  1.026452  0.714137  44.144338   \n",
       "\n",
       "      Gender_Male  family_history_yes  FAVC_yes  ...  CAEC_no  SMOKE_yes  \\\n",
       "0           False                True     False  ...    False      False   \n",
       "1           False                True     False  ...    False       True   \n",
       "2            True                True     False  ...    False      False   \n",
       "3            True               False     False  ...    False      False   \n",
       "4            True               False     False  ...    False      False   \n",
       "...           ...                 ...       ...  ...      ...        ...   \n",
       "2106        False                True      True  ...    False      False   \n",
       "2107        False                True      True  ...    False      False   \n",
       "2108        False                True      True  ...    False      False   \n",
       "2109        False                True      True  ...    False      False   \n",
       "2110        False                True      True  ...    False      False   \n",
       "\n",
       "      SCC_yes  CALC_Frequently  CALC_Sometimes  CALC_no  MTRANS_Bike  \\\n",
       "0       False            False           False     True        False   \n",
       "1        True            False            True    False        False   \n",
       "2       False             True           False    False        False   \n",
       "3       False             True           False    False        False   \n",
       "4       False            False            True    False        False   \n",
       "...       ...              ...             ...      ...          ...   \n",
       "2106    False            False            True    False        False   \n",
       "2107    False            False            True    False        False   \n",
       "2108    False            False            True    False        False   \n",
       "2109    False            False            True    False        False   \n",
       "2110    False            False            True    False        False   \n",
       "\n",
       "      MTRANS_Motorbike  MTRANS_Public_Transportation  MTRANS_Walking  \n",
       "0                False                          True           False  \n",
       "1                False                          True           False  \n",
       "2                False                          True           False  \n",
       "3                False                         False            True  \n",
       "4                False                          True           False  \n",
       "...                ...                           ...             ...  \n",
       "2106             False                          True           False  \n",
       "2107             False                          True           False  \n",
       "2108             False                          True           False  \n",
       "2109             False                          True           False  \n",
       "2110             False                          True           False  \n",
       "\n",
       "[2039 rows x 22 columns]"
      ]
     },
     "execution_count": 30,
     "metadata": {},
     "output_type": "execute_result"
    }
   ],
   "source": [
    "X"
   ]
  },
  {
   "cell_type": "code",
   "execution_count": 31,
   "id": "ba8eea35",
   "metadata": {
    "execution": {
     "iopub.execute_input": "2025-01-29T17:46:31.871876Z",
     "iopub.status.busy": "2025-01-29T17:46:31.871481Z",
     "iopub.status.idle": "2025-01-29T17:46:31.879035Z",
     "shell.execute_reply": "2025-01-29T17:46:31.877704Z"
    },
    "papermill": {
     "duration": 0.028291,
     "end_time": "2025-01-29T17:46:31.880923",
     "exception": false,
     "start_time": "2025-01-29T17:46:31.852632",
     "status": "completed"
    },
    "tags": []
   },
   "outputs": [],
   "source": [
    "X_train , X_test , y_train , y_test = train_test_split(X,y , test_size = 0.25 , random_state = 1)"
   ]
  },
  {
   "cell_type": "code",
   "execution_count": 32,
   "id": "3cdcc92b",
   "metadata": {
    "execution": {
     "iopub.execute_input": "2025-01-29T17:46:31.918266Z",
     "iopub.status.busy": "2025-01-29T17:46:31.917846Z",
     "iopub.status.idle": "2025-01-29T17:46:31.922351Z",
     "shell.execute_reply": "2025-01-29T17:46:31.921275Z"
    },
    "papermill": {
     "duration": 0.025134,
     "end_time": "2025-01-29T17:46:31.924110",
     "exception": false,
     "start_time": "2025-01-29T17:46:31.898976",
     "status": "completed"
    },
    "tags": []
   },
   "outputs": [],
   "source": [
    "scaler = StandardScaler()"
   ]
  },
  {
   "cell_type": "code",
   "execution_count": 33,
   "id": "d2523b7c",
   "metadata": {
    "execution": {
     "iopub.execute_input": "2025-01-29T17:46:31.962397Z",
     "iopub.status.busy": "2025-01-29T17:46:31.962036Z",
     "iopub.status.idle": "2025-01-29T17:46:31.991822Z",
     "shell.execute_reply": "2025-01-29T17:46:31.990608Z"
    },
    "papermill": {
     "duration": 0.051737,
     "end_time": "2025-01-29T17:46:31.993967",
     "exception": false,
     "start_time": "2025-01-29T17:46:31.942230",
     "status": "completed"
    },
    "tags": []
   },
   "outputs": [],
   "source": [
    "X_train_scaled = scaler.fit_transform(X_train)\n",
    "X_test_scaled = scaler.transform(X_test)"
   ]
  },
  {
   "cell_type": "code",
   "execution_count": 34,
   "id": "0639eabc",
   "metadata": {
    "execution": {
     "iopub.execute_input": "2025-01-29T17:46:32.030999Z",
     "iopub.status.busy": "2025-01-29T17:46:32.030627Z",
     "iopub.status.idle": "2025-01-29T17:46:32.071461Z",
     "shell.execute_reply": "2025-01-29T17:46:32.070316Z"
    },
    "papermill": {
     "duration": 0.061828,
     "end_time": "2025-01-29T17:46:32.073606",
     "exception": false,
     "start_time": "2025-01-29T17:46:32.011778",
     "status": "completed"
    },
    "tags": []
   },
   "outputs": [
    {
     "name": "stdout",
     "output_type": "stream",
     "text": [
      "Decision Tree Accuracy: 0.9725\n",
      "\n",
      "Classification Report:\n",
      "                      precision    recall  f1-score   support\n",
      "\n",
      "Insufficient_Weight       1.00      0.98      0.99        61\n",
      "      Normal_Weight       0.96      0.99      0.97        71\n",
      "     Obesity_Type_I       0.96      0.95      0.96        83\n",
      "    Obesity_Type_II       0.96      0.98      0.97        66\n",
      "   Obesity_Type_III       1.00      0.99      0.99        84\n",
      " Overweight_Level_I       0.95      0.95      0.95        66\n",
      "Overweight_Level_II       0.97      0.96      0.97        79\n",
      "\n",
      "           accuracy                           0.97       510\n",
      "          macro avg       0.97      0.97      0.97       510\n",
      "       weighted avg       0.97      0.97      0.97       510\n",
      "\n"
     ]
    }
   ],
   "source": [
    "tree_clf = DecisionTreeClassifier(criterion=\"gini\", max_depth=7, max_leaf_nodes=None)\n",
    "tree_clf.fit(X_train, y_train)\n",
    "y_pred_tree_clf = tree_clf.predict(X_test)\n",
    "tree_clf_accuracy = accuracy_score(y_test, y_pred_tree_clf)\n",
    "print(f\"Decision Tree Accuracy: {tree_clf_accuracy:.4f}\")\n",
    "print(\"\\nClassification Report:\\n\", classification_report(y_test, y_pred_tree_clf))"
   ]
  },
  {
   "cell_type": "code",
   "execution_count": 35,
   "id": "7736ef9e",
   "metadata": {
    "execution": {
     "iopub.execute_input": "2025-01-29T17:46:32.111898Z",
     "iopub.status.busy": "2025-01-29T17:46:32.111513Z",
     "iopub.status.idle": "2025-01-29T17:46:34.202902Z",
     "shell.execute_reply": "2025-01-29T17:46:34.201456Z"
    },
    "papermill": {
     "duration": 2.112962,
     "end_time": "2025-01-29T17:46:34.204897",
     "exception": false,
     "start_time": "2025-01-29T17:46:32.091935",
     "status": "completed"
    },
    "tags": []
   },
   "outputs": [
    {
     "name": "stdout",
     "output_type": "stream",
     "text": [
      "Best Parameters: {'criterion': 'entropy', 'max_depth': 7, 'max_leaf_nodes': None}\n"
     ]
    }
   ],
   "source": [
    "from sklearn.model_selection import GridSearchCV\n",
    "\n",
    "tree_param_grid = {\n",
    "    \"max_depth\": [3, 5, 7],\n",
    "    \"max_leaf_nodes\": [None, 5, 10, 20, 30, 50],\n",
    "    \"criterion\" : [\"gini\",\"entropy\"]\n",
    "}\n",
    "\n",
    "grid_search = GridSearchCV(DecisionTreeClassifier(random_state=1), tree_param_grid, cv=5)\n",
    "grid_search.fit(X_train, y_train)\n",
    "\n",
    "print(\"Best Parameters:\", grid_search.best_params_)"
   ]
  },
  {
   "cell_type": "code",
   "execution_count": 36,
   "id": "d0d71ca8",
   "metadata": {
    "execution": {
     "iopub.execute_input": "2025-01-29T17:46:34.242865Z",
     "iopub.status.busy": "2025-01-29T17:46:34.242475Z",
     "iopub.status.idle": "2025-01-29T17:46:34.699700Z",
     "shell.execute_reply": "2025-01-29T17:46:34.698317Z"
    },
    "papermill": {
     "duration": 0.478604,
     "end_time": "2025-01-29T17:46:34.701686",
     "exception": false,
     "start_time": "2025-01-29T17:46:34.223082",
     "status": "completed"
    },
    "tags": []
   },
   "outputs": [
    {
     "name": "stdout",
     "output_type": "stream",
     "text": [
      "rf accuracy : 0.9627450980392157\n",
      "                     precision    recall  f1-score   support\n",
      "\n",
      "Insufficient_Weight       0.97      1.00      0.98        59\n",
      "      Normal_Weight       1.00      0.85      0.92        84\n",
      "     Obesity_Type_I       0.96      1.00      0.98        80\n",
      "    Obesity_Type_II       1.00      0.97      0.99        68\n",
      "   Obesity_Type_III       1.00      1.00      1.00        84\n",
      " Overweight_Level_I       0.94      0.95      0.95        65\n",
      "Overweight_Level_II       0.87      0.99      0.93        70\n",
      "\n",
      "           accuracy                           0.96       510\n",
      "          macro avg       0.96      0.97      0.96       510\n",
      "       weighted avg       0.97      0.96      0.96       510\n",
      "\n"
     ]
    }
   ],
   "source": [
    "from sklearn.ensemble import RandomForestClassifier\n",
    "rf_clf = RandomForestClassifier(n_estimators = 100)\n",
    "rf_clf.fit(X_train , y_train)\n",
    "y_pred_rf_clf = rf_clf.predict(X_test)\n",
    "rf_clf_accuracy = accuracy_score(y_pred_rf_clf , y_test)\n",
    "print(f\"rf accuracy : {rf_clf_accuracy}\")\n",
    "print(classification_report(y_pred_rf_clf,y_test))"
   ]
  },
  {
   "cell_type": "code",
   "execution_count": 37,
   "id": "54a636bb",
   "metadata": {
    "execution": {
     "iopub.execute_input": "2025-01-29T17:46:34.741039Z",
     "iopub.status.busy": "2025-01-29T17:46:34.740691Z",
     "iopub.status.idle": "2025-01-29T17:46:34.847529Z",
     "shell.execute_reply": "2025-01-29T17:46:34.846313Z"
    },
    "papermill": {
     "duration": 0.128591,
     "end_time": "2025-01-29T17:46:34.849354",
     "exception": false,
     "start_time": "2025-01-29T17:46:34.720763",
     "status": "completed"
    },
    "tags": []
   },
   "outputs": [
    {
     "name": "stdout",
     "output_type": "stream",
     "text": [
      "log_reg accuracy: 0.692156862745098\n",
      "                     precision    recall  f1-score   support\n",
      "\n",
      "Insufficient_Weight       0.95      0.74      0.83        78\n",
      "      Normal_Weight       0.48      0.65      0.55        52\n",
      "     Obesity_Type_I       0.59      0.60      0.59        82\n",
      "    Obesity_Type_II       0.85      0.68      0.76        82\n",
      "   Obesity_Type_III       0.99      0.98      0.98        85\n",
      " Overweight_Level_I       0.47      0.50      0.48        62\n",
      "Overweight_Level_II       0.53      0.61      0.57        69\n",
      "\n",
      "           accuracy                           0.69       510\n",
      "          macro avg       0.69      0.68      0.68       510\n",
      "       weighted avg       0.72      0.69      0.70       510\n",
      "\n"
     ]
    }
   ],
   "source": [
    "from sklearn.linear_model import LogisticRegression\n",
    "log_reg = LogisticRegression()\n",
    "log_reg.fit(X_train, y_train)\n",
    "y_pred_log_reg = log_reg.predict(X_test)\n",
    "log_reg_accuracy = accuracy_score(y_pred_log_reg, y_test)\n",
    "print(f\"log_reg accuracy: {log_reg_accuracy}\")\n",
    "print(classification_report(y_pred_log_reg, y_test))"
   ]
  },
  {
   "cell_type": "code",
   "execution_count": 38,
   "id": "46f100aa",
   "metadata": {
    "execution": {
     "iopub.execute_input": "2025-01-29T17:46:34.888344Z",
     "iopub.status.busy": "2025-01-29T17:46:34.887982Z",
     "iopub.status.idle": "2025-01-29T17:46:35.273799Z",
     "shell.execute_reply": "2025-01-29T17:46:35.272584Z"
    },
    "papermill": {
     "duration": 0.407483,
     "end_time": "2025-01-29T17:46:35.275573",
     "exception": false,
     "start_time": "2025-01-29T17:46:34.868090",
     "status": "completed"
    },
    "tags": []
   },
   "outputs": [
    {
     "name": "stdout",
     "output_type": "stream",
     "text": [
      "accuracy_rf_pca : 0.6588235294117647\n",
      "                      precision    recall  f1-score   support\n",
      "\n",
      "Insufficient_Weight       0.70      0.63      0.67        68\n",
      "      Normal_Weight       0.55      0.49      0.52        80\n",
      "     Obesity_Type_I       0.51      0.61      0.55        69\n",
      "    Obesity_Type_II       0.89      0.75      0.81        79\n",
      "   Obesity_Type_III       0.99      1.00      0.99        83\n",
      " Overweight_Level_I       0.53      0.53      0.53        66\n",
      "Overweight_Level_II       0.44      0.54      0.49        65\n",
      "\n",
      "           accuracy                           0.66       510\n",
      "          macro avg       0.66      0.65      0.65       510\n",
      "       weighted avg       0.67      0.66      0.66       510\n",
      "\n"
     ]
    }
   ],
   "source": [
    "pca = PCA(n_components = 2)\n",
    "X_train_pca = pca.fit_transform(X_train_scaled)\n",
    "X_test_pca = pca.transform(X_test_scaled)\n",
    "rf_pca = RandomForestClassifier(n_estimators = 100)\n",
    "rf_pca.fit(X_train_pca , y_train)\n",
    "y_pred_pca = rf_pca.predict(X_test_pca)\n",
    "accuracy_rf_pca = accuracy_score(y_pred_pca , y_test)\n",
    "print(f\"accuracy_rf_pca : {accuracy_rf_pca }\")\n",
    "\n",
    "classification_report_after_pca = classification_report(y_pred_pca,y_test)\n",
    "print(f\" {classification_report_after_pca}\")"
   ]
  },
  {
   "cell_type": "code",
   "execution_count": 39,
   "id": "b2b9c8cd",
   "metadata": {
    "execution": {
     "iopub.execute_input": "2025-01-29T17:46:35.314831Z",
     "iopub.status.busy": "2025-01-29T17:46:35.314462Z",
     "iopub.status.idle": "2025-01-29T17:46:35.522282Z",
     "shell.execute_reply": "2025-01-29T17:46:35.521211Z"
    },
    "papermill": {
     "duration": 0.229304,
     "end_time": "2025-01-29T17:46:35.524011",
     "exception": false,
     "start_time": "2025-01-29T17:46:35.294707",
     "status": "completed"
    },
    "tags": []
   },
   "outputs": [
    {
     "data": {
      "image/png": "[encoded data removed]",
      "text/plain": [
       "<Figure size 640x480 with 1 Axes>"
      ]
     },
     "metadata": {},
     "output_type": "display_data"
    }
   ],
   "source": [
    "pca = PCA()\n",
    "pca.fit(X_train_scaled)\n",
    "\n",
    "plt.plot(range(1, len(pca.explained_variance_ratio_) + 1), pca.explained_variance_ratio_, marker='o')\n",
    "plt.xlabel('Bileşen Sayısı')\n",
    "plt.ylabel('Varyans Oranı')\n",
    "plt.title('Varyans Oranı vs Bileşen Sayısı')\n",
    "plt.show()"
   ]
  }
 ],
 "metadata": {
  "kaggle": {
   "accelerator": "none",
   "dataSources": [
    {
     "datasetId": 6479256,
     "sourceId": 10465193,
     "sourceType": "datasetVersion"
    }
   ],
   "dockerImageVersionId": 30839,
   "isGpuEnabled": false,
   "isInternetEnabled": true,
   "language": "python",
   "sourceType": "notebook"
  },
  "kernelspec": {
   "display_name": "Python 3",
   "language": "python",
   "name": "python3"
  },
  "language_info": {
   "codemirror_mode": {
    "name": "ipython",
    "version": 3
   },
   "file_extension": ".py",
   "mimetype": "text/x-python",
   "name": "python",
   "nbconvert_exporter": "python",
   "pygments_lexer": "ipython3",
   "version": "3.10.12"
  },
  "papermill": {
   "default_parameters": {},
   "duration": 16.814533,
   "end_time": "2025-01-29T17:46:36.365509",
   "environment_variables": {},
   "exception": null,
   "input_path": "__notebook__.ipynb",
   "output_path": "__notebook__.ipynb",
   "parameters": {},
   "start_time": "2025-01-29T17:46:19.550976",
   "version": "2.6.0"
  }
 },
 "nbformat": 4,
 "nbformat_minor": 5
}
